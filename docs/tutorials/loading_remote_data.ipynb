{
  "cells": [
    {
      "cell_type": "markdown",
      "source": [
        "##### Copyright 2019-2021 The TensorFlow Authors."
      ],
      "metadata": {
        "id": "JqjnBbmi8BPM"
      }
    },
    {
      "cell_type": "code",
      "source": [
        "#@title Licensed under the Apache License, Version 2.0 (the \"License\");\n",
        "# you may not use this file except in compliance with the License.\n",
        "# You may obtain a copy of the License at\n",
        "#\n",
        "# https://www.apache.org/licenses/LICENSE-2.0\n",
        "#\n",
        "# Unless required by applicable law or agreed to in writing, software\n",
        "# distributed under the License is distributed on an \"AS IS\" BASIS,\n",
        "# WITHOUT WARRANTIES OR CONDITIONS OF ANY KIND, either express or implied.\n",
        "# See the License for the specific language governing permissions and\n",
        "# limitations under the License."
      ],
      "metadata": {
        "cellView": "form",
        "id": "PTdfUcwp8Eru"
      },
      "execution_count": null,
      "outputs": []
    },
    {
      "cell_type": "markdown",
      "source": [
        "# Loading Remote Data in TFF\n",
        "\n",
        "---\n",
        "\n",
        "**NOTE**: This colab has been verified to work with the [latest released version](https://github.com/tensorflow/federated#compatibility) of the `tensorflow_federated` pip package, but the Tensorflow Federated project is still in pre-release development and may not work on `main`.\n",
        "\n",
        "In a production environment, the raw data for a federated computation is typically distributed across machines and requires special preprocessing and loading before it's usable.\n",
        "\n",
        "This tutorial describes how to load data stored in those remote locations with TFF's `DataBackend` and `DataExecutor` interfaces. But to keep the example simple, the dataset will exist entirely in memory and we'll smiulate the fetching as if the dataset was  partitioned over a network."
      ],
      "metadata": {
        "id": "G_JWOQsjxDDo"
      }
    },
    {
      "cell_type": "markdown",
      "source": [
        "<table class=\"tfo-notebook-buttons\" align=\"left\">\n",
        "  <td>\n",
        "    <a target=\"_blank\" href=\"https://www.tensorflow.org/federated/tutorials/federated_learning_for_image_classification\"><img src=\"https://www.tensorflow.org/images/tf_logo_32px.png\" />View on TensorFlow.org</a>\n",
        "  </td>\n",
        "  <td>\n",
        "    <a target=\"_blank\" href=\"https://colab.research.google.com/github/tensorflow/federated/blob/main/docs/tutorials/federated_learning_for_image_classification.ipynb\"><img src=\"https://www.tensorflow.org/images/colab_logo_32px.png\" />Run in Google Colab</a>\n",
        "  </td>\n",
        "  <td>\n",
        "    <a target=\"_blank\" href=\"https://github.com/tensorflow/federated/blob/main/docs/tutorials/federated_learning_for_image_classification.ipynb\"><img src=\"https://www.tensorflow.org/images/GitHub-Mark-32px.png\" />View source on GitHub</a>\n",
        "  </td>\n",
        "  <td>\n",
        "    <a href=\"https://storage.googleapis.com/tensorflow_docs/federated/docs/tutorials/federated_learning_for_image_classification.ipynb\"><img src=\"https://www.tensorflow.org/images/download_logo_32px.png\" />Download notebook</a>\n",
        "  </td>\n",
        "</table>"
      ],
      "metadata": {
        "id": "nNJf48UE8V-f"
      }
    },
    {
      "cell_type": "markdown",
      "source": [
        "## Before we start\n",
        "\n",
        "Before we start, please run the following to make sure that your environment is\n",
        "correctly setup. If you don't see a greeting, please refer to the\n",
        "[Installation](../install.md) guide for instructions. "
      ],
      "metadata": {
        "id": "5sxoeaXPC8LF"
      }
    },
    {
      "cell_type": "code",
      "execution_count": null,
      "metadata": {
        "id": "ZrGitA_KnRO0",
        "cellView": "form"
      },
      "outputs": [],
      "source": [
        "#@title Set up open-source environment\n",
        "#@test {\"skip\": true}\n",
        "\n",
        "!pip install --quiet --upgrade tensorflow-federated\n",
        "!pip install --quiet --upgrade nest-asyncio\n",
        "\n",
        "import nest_asyncio\n",
        "nest_asyncio.apply()"
      ]
    },
    {
      "cell_type": "code",
      "execution_count": 2,
      "metadata": {
        "id": "8BKyHkMxKHfV",
        "cellView": "form",
        "executionInfo": {
          "status": "ok",
          "timestamp": 1651792684018,
          "user_tz": 420,
          "elapsed": 23617,
          "user": {
            "displayName": "Hardik Vala",
            "userId": "01029775445738853833"
          }
        }
      },
      "outputs": [],
      "source": [
        "#@title Import packages\n",
        "import collections\n",
        "\n",
        "import numpy as np\n",
        "import tensorflow as tf\n",
        "import tensorflow_federated as tff\n",
        "\n",
        "np.random.seed(0)"
      ]
    },
    {
      "cell_type": "markdown",
      "source": [
        "## Preparing the input data\n",
        "\n",
        "Let's begin by loading TFF's federated version of the EMNIST dataset from the built-in repository:"
      ],
      "metadata": {
        "id": "PIFgAEZID7_X"
      }
    },
    {
      "cell_type": "code",
      "source": [
        "emnist_train, emnist_test = tff.simulation.datasets.emnist.load_data()"
      ],
      "metadata": {
        "id": "och-dTLZoPHI",
        "executionInfo": {
          "status": "ok",
          "timestamp": 1651792698302,
          "user_tz": 420,
          "elapsed": 14217,
          "user": {
            "displayName": "Hardik Vala",
            "userId": "01029775445738853833"
          }
        }
      },
      "execution_count": 3,
      "outputs": []
    },
    {
      "cell_type": "markdown",
      "source": [
        "We'll construct a preprocessing function to transform the raw examples in the EMNIST dataset from `28x28` images into `784`-element arrays. Additionally, the function will shuffle the individual examples, and rename the features from `pixels` and `label`, to `x` and `y` for use with Keras. We also throw in a `repeat` over the data set to run several epochs."
      ],
      "metadata": {
        "id": "9xkyMrciFYJc"
      }
    },
    {
      "cell_type": "code",
      "source": [
        "from tensorflow_federated.proto.v0 import computation_pb2 as pb\n",
        "\n",
        "NUM_CLIENTS = 10\n",
        "NUM_EPOCHS = 5\n",
        "SHUFFLE_BUFFER = 100\n",
        "\n",
        "def preprocess(dataset):\n",
        "\n",
        "  def map_fn(element):\n",
        "    return collections.OrderedDict(\n",
        "        x=tf.reshape(element['pixels'], [-1, 784]),\n",
        "        y=tf.reshape(element['label'], [-1, 1]))\n",
        "\n",
        "  return dataset.repeat(NUM_EPOCHS).shuffle(SHUFFLE_BUFFER, seed=1).map(map_fn)"
      ],
      "metadata": {
        "id": "kyiOMDO2GXKU",
        "executionInfo": {
          "status": "ok",
          "timestamp": 1651792710269,
          "user_tz": 420,
          "elapsed": 8,
          "user": {
            "displayName": "Hardik Vala",
            "userId": "01029775445738853833"
          }
        }
      },
      "execution_count": 4,
      "outputs": []
    },
    {
      "cell_type": "markdown",
      "source": [
        "Let's verify this works:"
      ],
      "metadata": {
        "id": "V0prl3BhGWHm"
      }
    },
    {
      "cell_type": "code",
      "source": [
        "example_dataset = emnist_train.create_tf_dataset_for_client(\n",
        "    emnist_train.client_ids[0])\n",
        "preprocessed_example_dataset = preprocess(example_dataset)"
      ],
      "metadata": {
        "id": "LTV06PafG0zV",
        "executionInfo": {
          "status": "ok",
          "timestamp": 1651792712559,
          "user_tz": 420,
          "elapsed": 364,
          "user": {
            "displayName": "Hardik Vala",
            "userId": "01029775445738853833"
          }
        }
      },
      "execution_count": 5,
      "outputs": []
    },
    {
      "cell_type": "markdown",
      "source": [
        "We'll use the EMNIST dataset to train a model by loading and preprocessing individual clients (emulating distinct partitions) through an implementation of `DataBackend`."
      ],
      "metadata": {
        "id": "OtnMawhie2Nh"
      }
    },
    {
      "cell_type": "markdown",
      "source": [
        "## Defining a `DataBackend`\n",
        "\n",
        "We need an instance of `DataBackend` to instruct TFF workers (these are the processes that run the client-side of federated computations) how to load and tranform the local data stored in remote locations. A `DataBackend` is a programmatic construct that resolves symbolic references, represented as application-specific URIs, to materialized payloads that downstream TFF operations can process. Specifically, a `DataBackend` object is wrapped by a `DataExecutor`, which queries the object when the TFF runtime encounters an operation that fetches the data.\n",
        "\n",
        "In this example, an Id to a client is encoded in a URI, which is parsed by our `DataBackend` definition to retrieve the corresponding client data, convert it to `tf.Dataset`, and then apply our `preprocess` function. "
      ],
      "metadata": {
        "id": "8n-grt-mHIYG"
      }
    },
    {
      "cell_type": "code",
      "source": [
        "class TestDataBackend(tff.framework.DataBackend):\n",
        "\n",
        "  async def materialize(self, data, type_spec):\n",
        "    client_id = int(data.uri[-1])\n",
        "    client_dataset = emnist_train.create_tf_dataset_for_client(\n",
        "        emnist_train.client_ids[client_id])\n",
        "    return preprocess(client_dataset)"
      ],
      "metadata": {
        "id": "uNFPMzCxl-4A",
        "executionInfo": {
          "status": "ok",
          "timestamp": 1651792715498,
          "user_tz": 420,
          "elapsed": 609,
          "user": {
            "displayName": "Hardik Vala",
            "userId": "01029775445738853833"
          }
        }
      },
      "execution_count": 6,
      "outputs": []
    },
    {
      "cell_type": "markdown",
      "source": [
        "## Plugging the `DataBackend` into the `ExecutionContext`\n",
        "\n",
        "TFF computations are invoked by an `ExecutionContext` and in order for data URIs defined in TFF computations to be understood at runtime, a custom context must be defined that includes a pointer to the `DataBackend` we just created, so URIs can be properly resolved.\n",
        "\n",
        "The `DataBackend` works in tandem with `DataExecutor` to supply the executor with operable data that the executor can relay to requesting executors in order to complete a TFF computation. \n"
      ],
      "metadata": {
        "id": "10G3IcFLl9QC"
      }
    },
    {
      "cell_type": "code",
      "source": [
        "def ex_fn(\n",
        "    device: tf.config.LogicalDevice) -> tff.framework.DataExecutor:\n",
        "  return tff.framework.DataExecutor(\n",
        "      tff.framework.EagerTFExecutor(device),\n",
        "      data_backend=TestDataBackend())\n",
        "factory = tff.framework.local_executor_factory(leaf_executor_fn=ex_fn)\n",
        "ctx = tff.framework.ExecutionContext(executor_fn=factory)\n",
        "tff.framework.set_default_context(ctx)"
      ],
      "metadata": {
        "id": "OAKm2SxHnIA6",
        "executionInfo": {
          "status": "ok",
          "timestamp": 1651792716853,
          "user_tz": 420,
          "elapsed": 9,
          "user": {
            "displayName": "Hardik Vala",
            "userId": "01029775445738853833"
          }
        }
      },
      "execution_count": 7,
      "outputs": []
    },
    {
      "cell_type": "markdown",
      "source": [
        "## Training the model\n",
        "\n",
        "Now we are ready to train a model in a federated fashion. Lets define a Keras model along with training hyperparameters:"
      ],
      "metadata": {
        "id": "8PDPVBPsnKcg"
      }
    },
    {
      "cell_type": "code",
      "source": [
        "def create_keras_model():\n",
        "  return tf.keras.models.Sequential([\n",
        "      tf.keras.layers.InputLayer(input_shape=(784,)),\n",
        "      tf.keras.layers.Dense(10, kernel_initializer='zeros'),\n",
        "      tf.keras.layers.Softmax(),\n",
        "  ])\n",
        "  \n",
        "def model_fn():\n",
        "  keras_model = create_keras_model()\n",
        "  return tff.learning.from_keras_model(\n",
        "      keras_model,\n",
        "      input_spec=preprocessed_example_dataset.element_spec,\n",
        "      loss=tf.keras.losses.SparseCategoricalCrossentropy(),\n",
        "      metrics=[tf.keras.metrics.SparseCategoricalAccuracy()])"
      ],
      "metadata": {
        "id": "X_iXlL6corkR",
        "executionInfo": {
          "status": "ok",
          "timestamp": 1651792721282,
          "user_tz": 420,
          "elapsed": 14,
          "user": {
            "displayName": "Hardik Vala",
            "userId": "01029775445738853833"
          }
        }
      },
      "execution_count": 8,
      "outputs": []
    },
    {
      "cell_type": "markdown",
      "source": [
        "We can pass this TFF-wrapped definition of our model\n",
        "to a [Federated Averaging](https://arxiv.org/abs/1602.05629) algorithm by invoking the helper\n",
        "function `tff.learning.build_federated_averaging_process`, as follows:"
      ],
      "metadata": {
        "id": "wBfrmkq_pDd0"
      }
    },
    {
      "cell_type": "code",
      "source": [
        "iterative_process = tff.learning.build_federated_averaging_process(\n",
        "    model_fn,\n",
        "    client_optimizer_fn=lambda: tf.keras.optimizers.SGD(learning_rate=0.02),\n",
        "    server_optimizer_fn=lambda: tf.keras.optimizers.SGD(learning_rate=1.0))\n",
        "\n",
        "state = iterative_process.initialize()"
      ],
      "metadata": {
        "id": "SGORt8ImmcLH",
        "executionInfo": {
          "status": "ok",
          "timestamp": 1651792728815,
          "user_tz": 420,
          "elapsed": 5585,
          "user": {
            "displayName": "Hardik Vala",
            "userId": "01029775445738853833"
          }
        }
      },
      "execution_count": 9,
      "outputs": []
    },
    {
      "cell_type": "markdown",
      "source": [
        "The `initialize` computation returns the initial state of the\n",
        "Federated Averaging process.\n",
        "\n",
        "To run a round of training, we need to construct a sample of data by organizing a sample of URI references as follows:"
      ],
      "metadata": {
        "id": "tT2r5Ayhpoaa"
      }
    },
    {
      "cell_type": "code",
      "source": [
        "element_type = tff.types.StructWithPythonType(\n",
        "    preprocessed_example_dataset.element_spec,\n",
        "    container_type=collections.OrderedDict)\n",
        "dataset_type = tff.types.SequenceType(element_type)\n",
        "dataset_type_proto = tff.framework.serialize_type(dataset_type)\n",
        "# Sampling the first five clients in the EMNIST dataset.\n",
        "arguments = [\n",
        "  pb.Computation(data=pb.Data(uri=f'uri://{i}'), type=dataset_type_proto)\n",
        "  for i in range(5)\n",
        "]\n",
        "data_handle = tff.framework.DataDescriptor(None, arguments, \n",
        "  tff.FederatedType(dataset_type, tff.CLIENTS), len(arguments))"
      ],
      "metadata": {
        "id": "f2igGrhfpmqY",
        "executionInfo": {
          "status": "ok",
          "timestamp": 1651110559189,
          "user_tz": 420,
          "elapsed": 3,
          "user": {
            "displayName": "Hardik Vala",
            "userId": "01029775445738853833"
          }
        }
      },
      "execution_count": 11,
      "outputs": []
    },
    {
      "cell_type": "markdown",
      "source": [
        "Now we can round a round of training:"
      ],
      "metadata": {
        "id": "86Pd90E206FT"
      }
    },
    {
      "cell_type": "code",
      "source": [
        "state, metrics = iterative_process.next(state, data_handle)\n",
        "print('round 1, metrics={}'.format(metrics))"
      ],
      "metadata": {
        "id": "2nOmtKF7p4Vo",
        "executionInfo": {
          "status": "ok",
          "timestamp": 1651110648346,
          "user_tz": 420,
          "elapsed": 85876,
          "user": {
            "displayName": "Hardik Vala",
            "userId": "01029775445738853833"
          }
        },
        "outputId": "7a1c9be8-a745-4d7e-e862-b60e606a3dde"
      },
      "execution_count": 12,
      "outputs": [
        {
          "output_type": "stream",
          "name": "stdout",
          "text": [
            "round 1, metrics=OrderedDict([('broadcast', ()), ('aggregation', OrderedDict([('mean_value', ()), ('mean_weight', ())])), ('train', OrderedDict([('sparse_categorical_accuracy', 0.11234568), ('loss', 11.965752), ('num_examples', 4860), ('num_batches', 4860)]))])\n"
          ]
        }
      ]
    },
    {
      "cell_type": "markdown",
      "source": [
        "And we can run a few more rounds:"
      ],
      "metadata": {
        "id": "zIrJ4a5aqD6D"
      }
    },
    {
      "cell_type": "code",
      "source": [
        "NUM_ROUNDS = 11\n",
        "for round_num in range(2, NUM_ROUNDS):\n",
        "  state, metrics = iterative_process.next(state, data_handle)\n",
        "  print('round {:2d}, metrics={}'.format(round_num, metrics))"
      ],
      "metadata": {
        "id": "Grrk1VfnARXG",
        "executionInfo": {
          "status": "ok",
          "timestamp": 1651110815248,
          "user_tz": 420,
          "elapsed": 154376,
          "user": {
            "displayName": "Hardik Vala",
            "userId": "01029775445738853833"
          }
        },
        "outputId": "320988d7-0d58-4487-d759-c56e28aee883"
      },
      "execution_count": 13,
      "outputs": [
        {
          "output_type": "stream",
          "name": "stdout",
          "text": [
            "round  2, metrics=OrderedDict([('broadcast', ()), ('aggregation', OrderedDict([('mean_value', ()), ('mean_weight', ())])), ('train', OrderedDict([('sparse_categorical_accuracy', 0.1228395), ('loss', 9.78747), ('num_examples', 4860), ('num_batches', 4860)]))])\n",
            "round  3, metrics=OrderedDict([('broadcast', ()), ('aggregation', OrderedDict([('mean_value', ()), ('mean_weight', ())])), ('train', OrderedDict([('sparse_categorical_accuracy', 0.19135803), ('loss', 7.206708), ('num_examples', 4860), ('num_batches', 4860)]))])\n",
            "round  4, metrics=OrderedDict([('broadcast', ()), ('aggregation', OrderedDict([('mean_value', ()), ('mean_weight', ())])), ('train', OrderedDict([('sparse_categorical_accuracy', 0.29814816), ('loss', 5.5699635), ('num_examples', 4860), ('num_batches', 4860)]))])\n",
            "round  5, metrics=OrderedDict([('broadcast', ()), ('aggregation', OrderedDict([('mean_value', ()), ('mean_weight', ())])), ('train', OrderedDict([('sparse_categorical_accuracy', 0.39423868), ('loss', 4.497268), ('num_examples', 4860), ('num_batches', 4860)]))])\n",
            "round  6, metrics=OrderedDict([('broadcast', ()), ('aggregation', OrderedDict([('mean_value', ()), ('mean_weight', ())])), ('train', OrderedDict([('sparse_categorical_accuracy', 0.46831277), ('loss', 3.8495626), ('num_examples', 4860), ('num_batches', 4860)]))])\n",
            "round  7, metrics=OrderedDict([('broadcast', ()), ('aggregation', OrderedDict([('mean_value', ()), ('mean_weight', ())])), ('train', OrderedDict([('sparse_categorical_accuracy', 0.5164609), ('loss', 3.461703), ('num_examples', 4860), ('num_batches', 4860)]))])\n",
            "round  8, metrics=OrderedDict([('broadcast', ()), ('aggregation', OrderedDict([('mean_value', ()), ('mean_weight', ())])), ('train', OrderedDict([('sparse_categorical_accuracy', 0.554321), ('loss', 3.070749), ('num_examples', 4860), ('num_batches', 4860)]))])\n",
            "round  9, metrics=OrderedDict([('broadcast', ()), ('aggregation', OrderedDict([('mean_value', ()), ('mean_weight', ())])), ('train', OrderedDict([('sparse_categorical_accuracy', 0.58312756), ('loss', 2.8780057), ('num_examples', 4860), ('num_batches', 4860)]))])\n",
            "round 10, metrics=OrderedDict([('broadcast', ()), ('aggregation', OrderedDict([('mean_value', ()), ('mean_weight', ())])), ('train', OrderedDict([('sparse_categorical_accuracy', 0.60082304), ('loss', 2.675121), ('num_examples', 4860), ('num_batches', 4860)]))])\n"
          ]
        }
      ]
    },
    {
      "cell_type": "markdown",
      "source": [
        "## Conclusion\n",
        "\n",
        "This concludes the tutorial. We encourage you to explore the other tutorials we've developed to learn about the many other features of the TFF framework."
      ],
      "metadata": {
        "id": "itjHBjJ6qOoS"
      }
    }
  ],
  "metadata": {
    "colab": {
      "collapsed_sections": [],
      "name": "loading_remote_data.ipynb",
      "provenance": [
        {
          "file_id": "https://github.com/tensorflow/federated/blob/v0.20.0/docs/tutorials/federated_learning_for_image_classification.ipynb",
          "timestamp": 1649456011540
        }
      ],
      "last_runtime": {
        "build_target": "",
        "kind": "local"
      }
    },
    "kernelspec": {
      "display_name": "Python 3",
      "name": "python3"
    }
  },
  "nbformat": 4,
  "nbformat_minor": 0
}
